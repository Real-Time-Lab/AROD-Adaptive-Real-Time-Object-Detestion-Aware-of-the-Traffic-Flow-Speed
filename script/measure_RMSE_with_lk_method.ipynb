{
 "cells": [
  {
   "cell_type": "code",
   "execution_count": null,
   "id": "9e036dba",
   "metadata": {},
   "outputs": [],
   "source": [
    "'''\n",
    "Calculate RMSE when simply use optical flow to measure vehicle's velocity:\n",
    "    by identifying the valid velocity (speed) when length of track >50\n",
    "    in raw data, round means every  4 seconds' refresh, e.g. in video 1 , there are 192 rounds\n",
    "    item 0- xx in this round refers one corner\n",
    "    \n",
    "    result:\n",
    "    video 1: 79.4\n",
    "    video 2: 21.9\n",
    "    video 3: 26.6\n",
    "    video 4: 25.7\n",
    "\n",
    "'''"
   ]
  },
  {
   "cell_type": "code",
   "execution_count": 14,
   "id": "2a9838df",
   "metadata": {},
   "outputs": [
    {
     "data": {
      "text/plain": [
       "113"
      ]
     },
     "execution_count": 14,
     "metadata": {},
     "output_type": "execute_result"
    }
   ],
   "source": [
    "import os \n",
    "import pandas as pd\n",
    "import numpy as np\n",
    "\n",
    "root = os.path.join(os.environ['HOME'], './')\n",
    "data_dir = os.path.join(root, './result/track_data')\n",
    "# data_with_label = pd.read_csv(os.path.join(data_dir, 'tracks_with_label_video3.csv'), index_col= None)\n",
    "data_raw = pd.read_csv(os.path.join(data_dir, 'tracks_video4.csv'), index_col= None)\n",
    "coner_ids = data_with_label['id'].unique()\n",
    "len(coner_ids)"
   ]
  },
  {
   "cell_type": "code",
   "execution_count": 15,
   "id": "cc192543",
   "metadata": {},
   "outputs": [
    {
     "data": {
      "text/plain": [
       "152"
      ]
     },
     "execution_count": 15,
     "metadata": {},
     "output_type": "execute_result"
    }
   ],
   "source": [
    "len(data_raw['round'].unique())"
   ]
  },
  {
   "cell_type": "code",
   "execution_count": 16,
   "id": "887d935c",
   "metadata": {
    "scrolled": false
   },
   "outputs": [
    {
     "name": "stderr",
     "output_type": "stream",
     "text": [
      "100%|█████████████████████████████████████████| 152/152 [00:35<00:00,  4.32it/s]"
     ]
    },
    {
     "name": "stdout",
     "output_type": "stream",
     "text": [
      "Total RMSE with pure optical flow method is in this video: 25.67122037044866\n"
     ]
    },
    {
     "name": "stderr",
     "output_type": "stream",
     "text": [
      "\n"
     ]
    }
   ],
   "source": [
    "'''\n",
    "2 filter track data\n",
    "imput: track_xxx.csv \n",
    "select tracks which valid data is more than 80, e.g. from 50 tracks crated by optical flow\n",
    "assign new id number\n",
    "\n",
    "output: tracks_df\n",
    "1st round filter: those tracks is shorter than 80 instances, by ids created\n",
    "\n",
    "\n",
    "round: every 120 frames (4 secs, created by trackData_generation_optical_flow.py\n",
    "id: id_num,  every set of track, e.g. 64 tracks before 2 times of fitering\n",
    "n: number selected tracks in every round, e.g 10 in round 3 (example in old_new1.csv)\n",
    "\n",
    "'''\n",
    "import numpy as np\n",
    "import pandas as pd\n",
    "from tqdm import tqdm\n",
    "import math\n",
    "import warnings\n",
    "warnings.filterwarnings(\"ignore\")\n",
    "\n",
    "data = data_raw\n",
    "def clip_track(df, y_min, y_max): \n",
    "    df = df[df['y_old'] >= y_min]\n",
    "    df = df[df['y_old'] <= y_max]\n",
    "    return df\n",
    "\n",
    "tracks_final = pd.DataFrame()\n",
    "id_num = 0\n",
    "tracks = []\n",
    "square_error = 0\n",
    "for rnd in tqdm(range(len(np.unique(data['round'])))):  ## travese by 'round', every rounds is 120 frames, 4 secs\n",
    "    df =data[data['round']== rnd]\n",
    "    df['pixels_per_frame'] = np.sqrt((df.new_x-df.old_x)**2 + (df.new_y-df.old_y)**2) ## add a new column of distance\n",
    "    df= df[df['pixels_per_frame']>1]\n",
    "    idx= df.index\n",
    "    '''\n",
    "    find the valuable trackings\n",
    "    in the list with value of [x,y,pixels_per_frame] for each tracking\n",
    "    '''\n",
    "#     n  = 0\n",
    "    pixel_speed_list_by_all_track = []\n",
    "    pixel_speed_list_by_valuable_track = [] # valuable means len(this_track)> 50, regards as ground truth\n",
    "#     round_speed = 0\n",
    "    \n",
    "    for idx_prev in idx:  ## those tracks in this round\n",
    "        this_track = []\n",
    "        \n",
    "        if idx_prev not in df.index: continue ## skip when this row is counted and removed\n",
    "        for i in idx:\n",
    "            if i not in df.index: continue ## skip when this row is counted and removed by pixels_per_frame<=1\n",
    "            if df.loc[idx_prev]['new_x'] == df.loc[i]['old_x']:  ## count the continueus tracked coner\n",
    "                this_track.append([df.loc[i]['old_x'], df.loc[i]['old_y'],\\\n",
    "                                   df.loc[i]['new_x'], df.loc[i]['new_y'],df.loc[i]['pixels_per_frame'],id_num])\n",
    "                df.drop(index = idx_prev, axis = 0, inplace = True) ## remove the row of found point\n",
    "                idx_prev = i  ## move to the next point(corner)\n",
    "                \n",
    "        id_num+=1\n",
    "        \n",
    "        if len(this_track) > 50:  ##  if len(this_track)> 10 :  ## ids with instance is longer than xx (e.g.50)\n",
    "            speed_this_track = np.mean(np.array(this_track)[:,4])\n",
    "            if len(this_track)>200:  ## clip 400-600\n",
    "                pixel_speed_list_by_valuable_track.append(speed_this_track)\n",
    "            else:\n",
    "                pixel_speed_list_by_all_track.append(speed_this_track)\n",
    "        if len(pixel_speed_list_by_valuable_track) == 0:\n",
    "            pixel_speed_list_by_valuable_track =[0]\n",
    "                \n",
    "    squre_error_this_round = np.power(np.mean(pixel_speed_list_by_all_track)-np.mean(pixel_speed_list_by_valuable_track),2)\n",
    "\n",
    "    if not math.isnan(squre_error_this_round):\n",
    "#         print('This rounds RMSE with pure optical flow method is:',squre_error_this_round)\n",
    "        square_error+=squre_error_this_round\n",
    "\n",
    "print('Total RMSE with pure optical flow method is in this video:', np.sqrt(square_error))"
   ]
  },
  {
   "cell_type": "code",
   "execution_count": null,
   "id": "d9cf9e7f",
   "metadata": {},
   "outputs": [],
   "source": []
  }
 ],
 "metadata": {
  "kernelspec": {
   "display_name": "Python 3 (ipykernel)",
   "language": "python",
   "name": "python3"
  },
  "language_info": {
   "codemirror_mode": {
    "name": "ipython",
    "version": 3
   },
   "file_extension": ".py",
   "mimetype": "text/x-python",
   "name": "python",
   "nbconvert_exporter": "python",
   "pygments_lexer": "ipython3",
   "version": "3.10.13"
  }
 },
 "nbformat": 4,
 "nbformat_minor": 5
}
